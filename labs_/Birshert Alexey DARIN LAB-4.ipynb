{
 "cells": [
  {
   "cell_type": "markdown",
   "metadata": {},
   "source": [
    "# L4 - Reinforcement learning\n",
    "\n",
    "**Reinforcement learning** is one of the machine learning approaches, where our agent learns by interacting with the some environment. In contrast to the supervised learning there are no labeled objects. However, agent can get rewards, making some actions. The goal of the agent is to maximize the total reward over some time period. \n",
    "\n",
    "This lab is mainly based on the [book](http://incompleteideas.net/book/bookdraft2018jan1.pdf). You just must read it, if you are interesting in reinforcement learning."
   ]
  },
  {
   "cell_type": "markdown",
   "metadata": {},
   "source": [
    "### 1. Multi-armed bandit problem\n",
    "\n",
    "#### Problem statement\n",
    "##### Informal\n",
    "Let we have $N$ slot machines. Playing on the $i$th slot, the agent receives some random reward. The agent doesn't know probability distribution of rewards, however it needs to maximize winnings after $T$ games.\n",
    "\n",
    "##### Formal\n",
    "Let $\\mathcal{A}$ be a finite set of possible actions. For each action $a \\in \\mathcal{A}$ agent can get some reward which is determined by the unknown probability distribution $p(r|a)$. The strategy of the agent (policy) at time $t$ is some probability distribution on the set of actions – $\\pi_t(a)$.\n",
    "\n",
    "Games' steps:\n",
    "> 1. Agent has some initial policy $\\pi_1(a)$\n",
    "> 2. At time  $1 \\leq t \\leq T$:\n",
    "> 3. Agent randomly chooses action $a_t \\sim \\pi_t(a)$\n",
    "> 4. Gets some reward $r_t \\sim p(r|a_t)$\n",
    "> 5. And update its policy $\\pi_t \\rightarrow \\pi_{t+1}$\n",
    "\n",
    "Let $c_t(a)$ be how many times action $a$ was used at  moment $t$\n",
    "$$c_t(a) = \\sum_{i=1}^{t}[A_i = a].$$\n",
    "Then agent needs to minimize its regret\n",
    "$$T\\cdot\\mu^* - \\sum_a \\mu_a \\mathbb{E}[c_T(a)]$$\n",
    "* $\\mu_a$ – expected value of reward for action $a$\n",
    "* $\\mu^* = \\max_a \\mu_a$ – expected value of reward for optimal action\n",
    "\n",
    "So we can define regrest as following\n",
    "$$T\\cdot\\mu^* - \\mathbb{E}\\big[ \\sum_{t=1}^{T} R_t \\big].$$\n",
    "\n",
    "The first task was formulated in this [paper](http://projecteuclid.org/download/pdf_1/euclid.bams/1183517370).\n",
    "#### Model problem\n",
    "1. $|A| = 100, T = 1000$\n",
    "2. $\\mu_a \\sim \\mathcal{N}(0, 1)$\n",
    "3. $p(r|a) = \\mathcal{N}(r; \\mu_a, 1)$\n",
    "\n",
    "The game simulated $10^4$ times and we are interesting in plot **[step]** $\\times$ **[average total reward at current step]**.\n",
    "\n",
    "1. $Q_t(a)$ – average reward of action $a$ by moment $t$ (value of action), $\\lim_{c_t(a) \\rightarrow \\infty} Q_t(a) =\\mu_a$.\n",
    "2. $Q^*(a) = \\lim_{t \\rightarrow \\infty} Q_t(a) = \\mu_a$ – value of cation $a$.\n",
    "3. $\\mathcal{A}_t = \\arg\\max_a Q_t(a)$ – set of actions that has the greatest average reward at moment $t$.\n",
    "\n",
    "#### Greedy policy\n",
    "$$\\pi_t(a)= \\frac{1}{|\\mathcal{A}_t|}[a \\in \\mathcal{A}_t].$$\n",
    "\n",
    "#### Exercises\n",
    "1. Implement gready policy.\n",
    "2. What is main disadvantages?\n",
    "3. How do you init $\\pi$? Is there any better option?\n",
    "4. Check this policy on model problem."
   ]
  },
  {
   "cell_type": "code",
   "execution_count": 1,
   "metadata": {},
   "outputs": [],
   "source": [
    "from __future__ import print_function\n",
    "import numpy as np\n",
    "import math\n",
    "import matplotlib.pyplot as plt"
   ]
  },
  {
   "cell_type": "code",
   "execution_count": 2,
   "metadata": {},
   "outputs": [],
   "source": [
    "A = 100\n",
    "\n",
    "T = 1000\n",
    "\n",
    "games_num = 1000\n",
    "\n",
    "INF = 10 ** 10\n",
    "\n",
    "mean = 0\n",
    "\n",
    "sigma = 1"
   ]
  },
  {
   "cell_type": "code",
   "execution_count": 3,
   "metadata": {},
   "outputs": [],
   "source": [
    "class Automat():\n",
    "    def __init__(self, mean, sigma):\n",
    "        self.m = mean\n",
    "        self.s = sigma\n",
    "        self.c = 0\n",
    "    \n",
    "    def reward(self):\n",
    "        self.c += 1\n",
    "        return np.random.normal(self.m, self.s)"
   ]
  },
  {
   "cell_type": "code",
   "execution_count": 4,
   "metadata": {},
   "outputs": [],
   "source": [
    "class Automats():\n",
    "    \n",
    "    def __init__(self, mean, sigma, number):\n",
    "        self.m = mean\n",
    "        self.s = sigma\n",
    "        self.n = number\n",
    "        \n",
    "        self.b = [] # automats themselves\n",
    "        self.r = [] # and their average reward\n",
    "        self.c = []\n",
    "        \n",
    "        for i in range(number):\n",
    "            self.b.append(Automat(np.random.normal(self.m, self.s), sigma))\n",
    "            self.r.append(0.0)\n",
    "            self.c.append(0)\n",
    "        \n",
    "    def reward(self, action):\n",
    "        r = self.b[action].reward() # get reward for action\n",
    "        self.c[action] += 1\n",
    "        \n",
    "        self.r[action] = (self.r[action] * (self.b[action].c - 1) + r) / self.b[action].c # count new average reward for action\n",
    "        \n",
    "        return r"
   ]
  },
  {
   "cell_type": "code",
   "execution_count": 5,
   "metadata": {},
   "outputs": [],
   "source": [
    "class Greedy():\n",
    "    \n",
    "    def __init__(self):\n",
    "        self.policy = [1.0/A for i in range(A)]\n",
    "    \n",
    "    def change(self, automats):\n",
    "        r = automats.r\n",
    "        high = max(r) # max average reward\n",
    "        count = 0 # how many automats have the same average reward as max one does\n",
    "        \n",
    "        for i in range(len(self.policy)):\n",
    "            if (r[i] == high):\n",
    "                count += 1\n",
    "                \n",
    "        for i in range(len(self.policy)): # set the policy right\n",
    "            if (r[i] == high):\n",
    "                self.policy[i] = 1.0 / count\n",
    "            else:\n",
    "                self.policy[i] = 0.0\n",
    "        \n",
    "        \n",
    "    def action(self):\n",
    "        index = [i for i in range(len(self.policy))]\n",
    "        return np.random.choice(index, p=self.policy) # choose one randomly (uniform distribution)"
   ]
  },
  {
   "cell_type": "code",
   "execution_count": 6,
   "metadata": {},
   "outputs": [],
   "source": [
    "def Game(Model):\n",
    "    rew = np.array([0.0 for i in range(T + 1)]) # set reward for one game\n",
    "    \n",
    "    au = Automats(mean, sigma, A) # set casino\n",
    "    \n",
    "    for i in range(T):\n",
    "        act = Model.action() # choose action due to the policy\n",
    "        \n",
    "        reward = au.reward(act) # get reward for the action\n",
    "        \n",
    "        rew[i + 1] = reward + rew[i]# account total reward\n",
    "        \n",
    "        Model.change(au) # change policy\n",
    "        \n",
    "    return rew"
   ]
  },
  {
   "cell_type": "code",
   "execution_count": 7,
   "metadata": {
    "scrolled": true
   },
   "outputs": [],
   "source": [
    "avg_rew_greedy = np.array([0.0 for i in range(T + 1)])\n",
    "\n",
    "Model = Greedy()\n",
    "\n",
    "for game in range(games_num):\n",
    "    curr_rew = Game(Model)\n",
    "    avg_rew_greedy = (avg_rew_greedy * (game) + curr_rew) / (game + 1)"
   ]
  },
  {
   "cell_type": "code",
   "execution_count": 8,
   "metadata": {},
   "outputs": [
    {
     "data": {
      "image/png": "[encoded data removed]",
      "text/plain": [
       "<Figure size 432x288 with 1 Axes>"
      ]
     },
     "metadata": {
      "needs_background": "light"
     },
     "output_type": "display_data"
    },
    {
     "name": "stdout",
     "output_type": "stream",
     "text": [
      "Total reward after 1000 games is equal to 1030.6593862072139\n"
     ]
    }
   ],
   "source": [
    "plt.plot(avg_rew_greedy)\n",
    "plt.title(\"Total average reward, greedy policy, \" + str(games_num) + \" games\")\n",
    "plt.xlabel(\"time\")\n",
    "plt.ylabel(\"total average reward\")\n",
    "plt.grid(True)\n",
    "plt.show()\n",
    "\n",
    "print(\"Total reward after \" + str(games_num) + \" games is equal to \" + str(avg_rew_greedy[T]))"
   ]
  },
  {
   "cell_type": "markdown",
   "metadata": {},
   "source": [
    "#### $\\varepsilon$-greedy policy\n",
    "The previous approach only exploits the environment. However, agent should spend some time learning probability distribtion of rewards, to maximize its reward in the long term. Thus is a question of balance **exploration** and **exploitation**.\n",
    "\n",
    "Possible improvement:\n",
    "$$\\pi_t(a)=\\frac{1-\\varepsilon}{|\\mathcal{A}_t|}[a \\in A_t] + \\frac{\\varepsilon}{|\\mathcal{A}|},\\ \\varepsilon \\in [0, 1].$$\n",
    "\n",
    "#### Exercises\n",
    "1. Implement this policy.\n",
    "2. What happens if you increase $\\varepsilon$?\n",
    "3. How do you change $\\varepsilon$ during agent learning?\n",
    "4. Check this policy on model problem, using different $\\varepsilon$."
   ]
  },
  {
   "cell_type": "code",
   "execution_count": 9,
   "metadata": {},
   "outputs": [],
   "source": [
    "class epsGreedy():\n",
    "    def __init__(self, eps):\n",
    "        self.policy = [1.0/A for i in range(A)]\n",
    "        self.eps = eps\n",
    "    \n",
    "    def change(self, automats):\n",
    "        r = automats.r\n",
    "        high = max(r) # max average reward\n",
    "        count = 0 # how many automats have the same average reward as max one does\n",
    "        \n",
    "        for i in range(len(self.policy)):\n",
    "            if (r[i] == high):\n",
    "                count += 1\n",
    "                \n",
    "        for i in range(len(self.policy)): # set the policy right\n",
    "            if (r[i] == high):\n",
    "                self.policy[i] = (1.0 - self.eps) / count + self.eps / A\n",
    "            else:\n",
    "                self.policy[i] = self.eps / A\n",
    "        \n",
    "        \n",
    "    def action(self):\n",
    "        index = [i for i in range(len(self.policy))]\n",
    "        return np.random.choice(index, p=self.policy) # choose one randomly (uniform distribution)"
   ]
  },
  {
   "cell_type": "code",
   "execution_count": 10,
   "metadata": {},
   "outputs": [],
   "source": [
    "avg_rew_egreedy = np.array([0.0 for i in range(T + 1)])\n",
    "\n",
    "eps = 0.1\n",
    "\n",
    "Model = epsGreedy(eps)\n",
    "\n",
    "for game in range(games_num):\n",
    "    curr_rew = Game(Model)\n",
    "    avg_rew_egreedy = (avg_rew_egreedy * (game) + curr_rew) / (game + 1)"
   ]
  },
  {
   "cell_type": "code",
   "execution_count": 11,
   "metadata": {},
   "outputs": [
    {
     "data": {
      "image/png": "[encoded data removed]",
      "text/plain": [
       "<Figure size 432x288 with 1 Axes>"
      ]
     },
     "metadata": {
      "needs_background": "light"
     },
     "output_type": "display_data"
    },
    {
     "name": "stdout",
     "output_type": "stream",
     "text": [
      "Total reward after 1000 games is equal to 1739.426854644217\n"
     ]
    }
   ],
   "source": [
    "plt.plot(avg_rew_egreedy)\n",
    "plt.title(\"Total average reward, eps-greedy policy, \" + str(games_num) + \" games, eps = \" + str(eps))\n",
    "plt.xlabel(\"time\")\n",
    "plt.ylabel(\"total average reward\")\n",
    "plt.grid(True)\n",
    "plt.show()\n",
    "\n",
    "print(\"Total reward after \" + str(games_num) + \" games is equal to \" + str(avg_rew_egreedy[T]))"
   ]
  },
  {
   "cell_type": "markdown",
   "metadata": {},
   "source": [
    "#### Softmax\n",
    "One more interpretation of $\\varepsilon$-greedy policy\n",
    "\n",
    "$$\\pi_t(a)=\\frac{\\exp(\\frac{1}{\\varepsilon} \\cdot Q_t(a))}{\\sum_{b} \\exp(\\frac{1}{\\varepsilon} \\cdot Q_t(b))},\\ \\varepsilon >0.$$\n",
    "\n",
    "#### Exercises\n",
    "1. Implement this policy.\n",
    "2. What happens if $\\varepsilon \\rightarrow 0$? What about $\\varepsilon \\rightarrow \\infty$?\n",
    "3. Compare softmax and $\\varepsilon$-greedy policy on model problem."
   ]
  },
  {
   "cell_type": "code",
   "execution_count": 12,
   "metadata": {},
   "outputs": [],
   "source": [
    "class Softmax():\n",
    "    def __init__(self, eps):\n",
    "        self.policy = [1.0/A for i in range(A)]\n",
    "        self.eps = eps\n",
    "    \n",
    "    def change(self, automats):\n",
    "        r = automats.r\n",
    "        s = 0.0\n",
    "        for i in range(len(r)):\n",
    "            s += np.exp(r[i] / self.eps)\n",
    "        for i in range(len(self.policy)): # set the policy right\n",
    "            self.policy[i] = np.exp(r[i] / self.eps) / s\n",
    "        \n",
    "        \n",
    "    def action(self):\n",
    "        index = [i for i in range(len(self.policy))]\n",
    "        return np.random.choice(index, p=self.policy) # choose one randomly (uniform distribution)"
   ]
  },
  {
   "cell_type": "code",
   "execution_count": 13,
   "metadata": {},
   "outputs": [],
   "source": [
    "avg_rew_softmax = np.array([0.0 for i in range(T + 1)])\n",
    "\n",
    "eps = 0.3\n",
    "\n",
    "Model = Softmax(eps)\n",
    "\n",
    "for game in range(games_num):\n",
    "    curr_rew = Game(Model)\n",
    "    avg_rew_softmax = (avg_rew_softmax * (game) + curr_rew) / (game + 1)"
   ]
  },
  {
   "cell_type": "code",
   "execution_count": 14,
   "metadata": {},
   "outputs": [
    {
     "data": {
      "image/png": "[encoded data removed]",
      "text/plain": [
       "<Figure size 432x288 with 1 Axes>"
      ]
     },
     "metadata": {
      "needs_background": "light"
     },
     "output_type": "display_data"
    },
    {
     "name": "stdout",
     "output_type": "stream",
     "text": [
      "Total reward after 1000 games is equal to 1878.132576844013\n"
     ]
    }
   ],
   "source": [
    "plt.plot(avg_rew_softmax)\n",
    "plt.title(\"Total average reward, softmax policy, \" + str(games_num) + \" games, eps = \" + str(eps))\n",
    "plt.xlabel(\"time\")\n",
    "plt.ylabel(\"total average reward\")\n",
    "plt.grid(True)\n",
    "plt.show()\n",
    "\n",
    "print(\"Total reward after \" + str(games_num) + \" games is equal to \" + str(avg_rew_softmax[T]))"
   ]
  },
  {
   "cell_type": "markdown",
   "metadata": {},
   "source": [
    "#### UCB (upper confidence bound)\n",
    "For each moment $t$ agent defines the most potentially profitable actions. Agent choice of $a \\in A_t$ in accordance with following rule\n",
    "$$\\mathcal{A}_t = \\arg\\max Q_t(a) + \\varepsilon \\sqrt{\\frac{2 \\ln t}{c_t(a)}},\\ \\varepsilon \\geq 0$$\n",
    "\n",
    "The first part is well known, but the second summand is measure of how accurate agent estimates $Q_t(a)$ at this moment. The policy itself balances between exploration and exploitation. This policy can be considired as optimal in some sense, more inforamtion [here](http://homes.di.unimi.it/~cesabian/Pubblicazioni/ml-02.pdf).\n",
    "\n",
    "#### Exercises\n",
    "1. Implement policy.\n",
    "2. What happens if $\\varepsilon \\rightarrow 0$? What about $\\varepsilon \\rightarrow \\infty$?\n",
    "3. Compare this policy with softmax and $\\varepsilon$-greedy policy."
   ]
  },
  {
   "cell_type": "code",
   "execution_count": 15,
   "metadata": {},
   "outputs": [],
   "source": [
    "class UCB():\n",
    "    def __init__(self, eps):\n",
    "        self.policy = [1.0/A for i in range(A)]\n",
    "        self.eps = eps\n",
    "    \n",
    "    def change(self, automats):\n",
    "        r = automats.r\n",
    "        c = automats.c\n",
    "        t = 0\n",
    "        for i in range(len(c)):\n",
    "            t += c[i]\n",
    "        total = [0.0 for i in range(len(c))]\n",
    "        for i in range(len(c)):\n",
    "            total[i] = (r[i] + self.eps * np.sqrt(2 * np.log(t) / (c[i] + 1)))\n",
    "        \n",
    "        high = max(total)\n",
    "        count = 0\n",
    "        \n",
    "        for i in range(len(total)):\n",
    "            if (total[i] == high):\n",
    "                count += 1\n",
    "        for i in range(len(total)):\n",
    "            if (total[i] == high):\n",
    "                self.policy[i] = 1.0 / count\n",
    "            else:\n",
    "                self.policy[i] = 0.0\n",
    "        \n",
    "        \n",
    "    def action(self):\n",
    "        index = [i for i in range(len(self.policy))]\n",
    "        return np.random.choice(index, p=self.policy) # choose one randomly (uniform distribution)"
   ]
  },
  {
   "cell_type": "code",
   "execution_count": 16,
   "metadata": {},
   "outputs": [],
   "source": [
    "avg_rew_ucb = np.array([0.0 for i in range(T + 1)])\n",
    "\n",
    "eps = 1\n",
    "\n",
    "Model = UCB(eps)\n",
    "\n",
    "for game in range(games_num):\n",
    "    curr_rew = Game(Model)\n",
    "    avg_rew_ucb = (avg_rew_ucb * (game) + curr_rew) / (game + 1)"
   ]
  },
  {
   "cell_type": "code",
   "execution_count": 17,
   "metadata": {},
   "outputs": [
    {
     "data": {
      "image/png": "[encoded data removed]",
      "text/plain": [
       "<Figure size 432x288 with 1 Axes>"
      ]
     },
     "metadata": {
      "needs_background": "light"
     },
     "output_type": "display_data"
    },
    {
     "name": "stdout",
     "output_type": "stream",
     "text": [
      "Total reward after 1000 games is equal to 1945.69106065477\n"
     ]
    }
   ],
   "source": [
    "plt.plot(avg_rew_ucb)\n",
    "plt.title(\"Total average reward, UCB policy, \" + str(games_num) + \" games, eps = \" + str(eps))\n",
    "plt.xlabel(\"time\")\n",
    "plt.ylabel(\"total average reward\")\n",
    "plt.grid(True)\n",
    "plt.show()\n",
    "\n",
    "print(\"Total reward after \" + str(games_num) + \" games is equal to \" + str(avg_rew_ucb[T]))"
   ]
  },
  {
   "cell_type": "markdown",
   "metadata": {},
   "source": [
    "#### Gradient policy\n",
    "There are also adaptive policy. They can be used, if the environment is not stationary (the distribution of rewards may slowly change). In this case, it is proposed to use the already familiar exponential smoothing\n",
    "We find smoothed average reward at moment $t$ for all actions:\n",
    "$$\\bar{r}_{t+1} = (1-\\alpha_t)\\cdot\\bar{r}_t(a)+\\alpha_t r_{t+1} = \\bar{r}_t +\\alpha_t (r_{t+1}-\\bar{r}_t(a)),\\ \\alpha_t \\in [0, 1].$$\n",
    "\n",
    "**Hint** Сonvergence condition\n",
    "* $\\sum^{\\infty} \\alpha_t = \\infty$\n",
    "* $\\sum^{\\infty} \\alpha^2_t < \\infty$\n",
    "\n",
    "By the way, if $\\alpha_t = \\frac{1}{t}$, then $\\bar{r}_{t+1}$ is just average of all $r_t$.\n",
    "\n",
    "For each action we have some priority $p_t(a)$. After each step we make following update\n",
    "$$p_{t+1}(a) = p_t(a)+\\lambda(r_t-\\bar{r}_t)(1-\\pi_t(a)), \\text{ $a$ is choosen,}$$\n",
    "\n",
    "$$p_{t+1}(a) = p_t(a)-\\lambda(r_t-\\bar{r}_t)\\pi_t(a), \\text{ another case.}$$\n",
    "\n",
    "So policy $\\pi_{t+1}$ looks like:\n",
    "$$\\pi_{t+1}(a) = \\frac{\\exp(p_{t+1}(a))}{\\sum_{b} \\exp(p_{t+1}(b))}$$\n",
    "More details about this method you can find in the book.\n",
    "\n",
    "#### Exercise\n",
    "1. Implement policy.\n",
    "2. In conclusion, try to understand which model is better for our problem."
   ]
  },
  {
   "cell_type": "code",
   "execution_count": 18,
   "metadata": {},
   "outputs": [],
   "source": [
    "class Grad():\n",
    "    def __init__(self, la):\n",
    "        self.policy = [1.0/A for i in range(A)]\n",
    "        self.l = la\n",
    "        self.smooth = [0.0 for i in range(A)]\n",
    "    \n",
    "    def change(self, automats, action, time):\n",
    "        alpha = 1.0 / time\n",
    "        r = automats.r\n",
    "        for i in range(len(r)):\n",
    "            self.smooth[i] = (1 - alpha) * self.smooth[i] + alpha * r[i]\n",
    "        \n",
    "        p = [0.0 for i in range(len(self.policy))]\n",
    "        for i in range(len(self.policy)):\n",
    "            if (i == action):\n",
    "                p[i] = self.policy[i] + self.l * (r[i] - self.smooth[i]) * (1 - self.policy[i])\n",
    "            else:\n",
    "                p[i] = self.policy[i] - self.l * (r[i] - self.smooth[i]) * self.policy[i]\n",
    "        \n",
    "        s = 0.0\n",
    "        for i in range(len(p)):\n",
    "            s += np.exp(p[i])\n",
    "            \n",
    "        for i in range(len(self.policy)):\n",
    "            self.policy[i] = np.exp(p[i])/s\n",
    "            \n",
    "    def action(self):\n",
    "        index = [i for i in range(len(self.policy))]\n",
    "        return np.random.choice(index, p=self.policy) # choose with self.policy distribution"
   ]
  },
  {
   "cell_type": "code",
   "execution_count": 19,
   "metadata": {},
   "outputs": [],
   "source": [
    "def Game_grad(Model):\n",
    "    rew = np.array([0.0 for i in range(T + 1)]) # set reward for one game\n",
    "    \n",
    "    au = Automats(mean, sigma, A) # set casino\n",
    "    \n",
    "    for i in range(T):\n",
    "        act = Model.action() # choose action due to the policy\n",
    "        \n",
    "        reward = au.reward(act) # get reward for the action\n",
    "        \n",
    "        rew[i + 1] = reward + rew[i]# account total reward\n",
    "        \n",
    "        Model.change(au, act, i + 1) # change policy\n",
    "        \n",
    "    return rew"
   ]
  },
  {
   "cell_type": "code",
   "execution_count": 20,
   "metadata": {},
   "outputs": [],
   "source": [
    "avg_rew_grad = np.array([0.0 for i in range(T + 1)])\n",
    "\n",
    "la = 0.001\n",
    "\n",
    "Model = Grad(la)\n",
    "\n",
    "for game in range(games_num):\n",
    "    curr_rew = Game_grad(Model)\n",
    "    avg_rew_grad = (avg_rew_grad * (game) + curr_rew) / (game + 1)"
   ]
  },
  {
   "cell_type": "code",
   "execution_count": 21,
   "metadata": {},
   "outputs": [
    {
     "data": {
      "image/png": "[encoded data removed]",
      "text/plain": [
       "<Figure size 432x288 with 1 Axes>"
      ]
     },
     "metadata": {
      "needs_background": "light"
     },
     "output_type": "display_data"
    },
    {
     "name": "stdout",
     "output_type": "stream",
     "text": [
      "Total reward after 1000 games is equal to 8.488052471406055\n"
     ]
    }
   ],
   "source": [
    "plt.plot(avg_rew_grad)\n",
    "plt.title(\"Total average reward, Gradient policy, \" + str(games_num) + \" games, lambda = \" + str(la))\n",
    "plt.xlabel(\"time\")\n",
    "plt.ylabel(\"total average reward\")\n",
    "plt.grid(True)\n",
    "plt.show()\n",
    "\n",
    "print(\"Total reward after \" + str(games_num) + \" games is equal to \" + str(avg_rew_grad[T]))"
   ]
  },
  {
   "cell_type": "markdown",
   "metadata": {
    "collapsed": true
   },
   "source": [
    "### 2. Markov decison process\n",
    "#### Problem statement\n",
    "Now agent acts in some environment with finite set of states $\\mathcal{S}$. At moment $t$ agent at state $s_t$ can choose action $a_t \\in \\mathcal{A}_{s_t} \\subset \\mathcal{A}$. After agent's action, environment moves it to state $s_{t+1}$ and give reward $r_{t+1}$. Environment behaviour is defined with\n",
    "$$p(s_{t+1}, r_{t+1}|s_t, a_t)  = \\Pr\\{ S_{t+1} = s_{t+1}, R_{t+1} =  r_{t+1} | S_t = s_t, A_t = a_t\\}.$$\n",
    "\n",
    "Agent has some policy $\\pi$, which at moment $t$ defines probabilty of action $a_t \\in \\mathcal{A}_{s_t}$ for state $s_t$ $\\pi_t(a_t|s_t) = p(a_t|s_t)$. Informally agent needs to maximize the total reward. If the decision process is finite, the problem is formalized as maximizing\n",
    "$$G = \\sum_{t=0}^{T} R_{t+1},$$\n",
    "here $T$ – moment of time, when agent achives final state. We will consider this value as a random. If the process can last very long or infinite time than we have dealing with a discounted reward\n",
    "$$ G_t = \\sum_{k=0}^{\\infty} \\gamma^{k} R_{t+k+1},$$\n",
    "here $\\gamma \\in [0, 1]$ defines how deep we look into the future.\n",
    "\n",
    "The probability that the process moves into its new state is influenced by the chosen action. Specifically, it is given by the state transition function. Thus, the next state  depends on the current state and the decision maker's action. But given state and action, it is conditionally independent of all previous states and actions, in other words, the state transitions of an MDP satisfies the Markov property.\n",
    "\n",
    "#### Exercises\n",
    "1. Give life example of Markov decision process (it may be any game, etc.).\n",
    "2. Can you give an example where a decision can't be modeled with a Markov process?\n",
    "3. Using $p(s_{t+1}, r_{t+1}|s_t, a_t)$, find values below (all distribution are discrete):\n",
    "  * $r(s_{t}, a_{t}) = \\mathbb{E}[R_{t+1}|S_t = s_t, A_t = a_t]$ – average reward for action $a_t$ in state $s_t$ \n",
    "  * $p(s_{t+1} | s_t, a_t) = \\Pr\\{S_{t+1} = s_{t+1} | S_t = s_t, A_t = a_t \\}$ – probability to move from $s_t$ to $s_{t+1}$, making $a_t$.\n",
    "  * $r(s_t, a_t, s_{t+1}) = \\mathbb{E}[R_{t+1}|S_{t+1} = s_{t+1}, S_t = s_t, A_t = a_t]$ – average reward when moving from $s_t$ to $s_{t+1}$, making $a_t$."
   ]
  },
  {
   "cell_type": "markdown",
   "metadata": {},
   "source": [
    "#### Main definitions \n",
    "State-value function under the strategy of $\\pi$ returns for state $s$ total reward, that agent gets, starting from $s$\n",
    "$$V^\\pi(s) = \\mathbb{E}[G_t|S_t=s] = \\mathbb{E}\\Big[\\sum_{k=0}^{\\infty} \\gamma^{k+1}R_{t+k+1}|S_t=s\\Big].$$\n",
    "\n",
    "Action-value function under the strategy $\\pi$ for action $a$ and state $s$ returns total reward that agent gets, starting from $s$ and making $a$\n",
    "$$Q^\\pi(s, a) = \\mathbb{E}[G_t|S_t=s, A_t=a] = \\mathbb{E}\\Big[\\sum_{k=0}^{\\infty} \\gamma^{k+1}R_{t+k+1}|S_t=s,  A_t=a\\Big].$$\n",
    "\n",
    "Thus we have following equations (the first two are Bellman equations):\n",
    "\n",
    "$$V^{\\pi}(s) = \\mathbb{E}\\big[R_{t+1} + \\gamma V^{\\pi}(S_{t+1}) | S_t=s\\big]$$\n",
    "\n",
    "$$Q^{\\pi}(s, a) = \\mathbb{E}\\big[R_{t+1} + \\gamma Q^{\\pi}(S_{t+1}, A_{t+1}) | S_t=s, A_t=a\\big]$$\n",
    "\n",
    "$$Q^{\\pi}(s, a) = \\mathbb{E}\\big[R_{t+1} + \\gamma V^{\\pi}(S_{t+1}) | S_t=s, A_t=a\\big]$$\n",
    "\n",
    "#### Remark\n",
    "It is important to note that policy $\\pi$ is fixed and doesn't change with time. Although in real practice it is not true, because our strategy is constantly updating when agent learns environment.\n",
    "Policy $\\pi^{*}$ is optimal, if for each state $s$ and any other policy $\\pi$ it is true that $V_{\\pi^{*}}(s) \\geq V_{\\pi}(s)$. Posibly, there are several different optimal policies, however functions $V(s)$ and $Q(s, a)$, which they defines are the same. So, we denote these functions $V^*(s)$ и $Q^*(s, a)$ as optimal.\n",
    "\n",
    "Equations below are Bellman optimality equations (more info [here](https://en.wikipedia.org/wiki/Bellman_equation):\n",
    "$$V^*(s) = \\max_{a \\in \\mathcal{A}} \\mathbb{E}\\big[R_{t+1} + \\gamma V^*(S_{t+1}) | S_t=s, A_t=a\\big]$$\n",
    "$$Q^*(s, a) = \\mathbb{E}\\big[R_{t+1} + \\gamma \\max_{b \\in \\mathcal{A}} Q^*(S_{t+1}, b) | S_t=s, A_t=a\\big]$$\n",
    "\n",
    "Then the following two greedy strategies are equivalent and optimal ($\\mathcal{A}_t$ – set):\n",
    "$$\\mathcal{A}_t = \\arg\\max_{a \\in \\mathcal{A}} \\mathbb{E}\\big[R_{t+1} + \\gamma V^*(s_{t+1}) | s_t, a \\big]$$\n",
    "$$\\mathcal{A}_t = \\arg\\max_{a \\in \\mathcal{A}} Q^*(s_t, a)$$\n",
    "\n",
    "#### Dynamic programming\n",
    "This part is based on the fact, that $p(s',r|s,a)$ is known.\n",
    "\n",
    "#### Iterative policy evaluation\n",
    "Let agent has some fixed policy $\\pi$, then for $V^{\\pi}$ we have\n",
    "$$V^{\\pi}(s) = \\sum_a \\pi(a|s) \\sum_{s',r} p(s',r|s,a) \\big[r + \\gamma V^{\\pi}(s') \\big]$$\n",
    "\n",
    "For simplicity we assume that the distribution of rewards is discrete random variable. Otherwise, it is necessary to use operator of integration instead of sum. For each state $s$ we can can evaluate $V^{\\pi}$, using iterative algorithm ($V_0$ is initialized randomly)\n",
    "$$V_{n+1}(s) = \\sum_a \\pi(a|s) \\sum_{s',r} p(s',r|s,a) \\big[r + \\gamma V_n(s') \\big].$$\n",
    "\n",
    "By the way, if $s$ is a final state, then $V(s)$ is already known and we may use this value as initialization for faster convergence. The computation stops when $V(s)$ varies negligible from iteration to iteration.\n",
    "\n",
    "#### Remarks\n",
    "1. We make assumption that $p(s',r|s,a)$ is known, but it's often not truth in practice.\n",
    "2. Compution of $V_{n+1}$ can be done **in place**, it accelerates convergence, since in the process of computation we will use the values from iteration $n$ and some new values from iteration $n+1$.\n",
    "\n",
    "#### Policy improvement theorem\n",
    "Suppose there are policies $\\pi$ and $\\pi'$, and for each state $s$ we have\n",
    "$$Q^{\\pi}(s, \\pi'(s)) \\geq V^{\\pi}(s),$$\n",
    "then the following inequality holds\n",
    "$$V^{\\pi'}(s) \\geq V^{\\pi}(s).$$\n",
    "\n",
    "The main interest of this theorem is that it allows us to improve the current policy. We know how to calculate $V^{\\pi}(s)$, so\n",
    "\n",
    "$$\n",
    "Q^{\\pi}(s, a) =\n",
    "\\mathbb{E}\\big[R_{t+1} + \\gamma V^{\\pi}(S_{t+1}) | S_t=s, A_t=a\\big] =\n",
    "\\sum_{s',r}p(s',r|s, a)\\big[ r + \\gamma V^{\\pi}(s') \\big]\n",
    "$$\n",
    "\n",
    "In this way we can improve our policy\n",
    "$$\\pi'(a) = \\arg\\max_a Q^{\\pi}(s, a).$$\n",
    "The writing above means, that policy chooses action uniformly among all optimal actions. If we can't improve $V^{\\pi}$, then out state-value function is optimal and satisfies the equation the Bellman equation. So, policy, which defines this policy, is also optimal.\n",
    "\n",
    "#### Policy interation\n",
    "Performing alternately calculation of $V^{\\pi}$ and improving $\\pi$, we can find optimal policy $\\pi^*$. It should be noted that as initialization values of $V(s)$ you may use state-value function from previous iteration, it helps significantly speeds up the convergence of the algorithm.\n",
    "\n",
    "#### Value interation\n",
    "There is also interesting approach to compute $V^{*}(s)$ of optimal strategy $\\pi^{*}$\n",
    "$$V_{n+1}(s) = \\max_a \\sum_{s',r} p(s',r|s,a) \\big[r + \\gamma V_n(s') \\big].$$\n",
    "\n",
    "You may understand this method in the following way. On the one hand we in greedy manner update state value function during each iteration of value function evaluation. On the other hand we use Bellman equation to evaluate $V^{*}$ iteratively. It's rather practical method.\n",
    "\n",
    "#### Exercises\n",
    "1. Let you environment have 100 states. The distribution function $p(s',r|s,a)$ may be defined by your own.\n",
    "2. Fix some discount value and find optimal policy.\n",
    "3. What method is faster? For any state $s$, check how $V^*(s)$ varies during $\\gamma$ changing.\n",
    "4. Plot $\\gamma \\times V^*(s)$ for some 5 states."
   ]
  },
  {
   "cell_type": "markdown",
   "metadata": {
    "collapsed": true
   },
   "source": [
    "### 3. Model problem\n",
    "As a model problem we choose tic-tac-toe game. One agent plays against another, so environament for each player is its opponent. The set of states $\\mathcal{S}_{X}$ is all possible positions of tic-tac-toe game for Xs and the set $\\mathcal{S}_{O}$ defined in the same way for Os. You need to train both agents during some series of games where they play with each other. The criterion of success – both agent don't lose human."
   ]
  },
  {
   "cell_type": "markdown",
   "metadata": {},
   "source": [
    "### 4. Temporal difference\n",
    "The speech will focus on more practical methods. Let imagine that we evaluate $V^{\\pi}(s)$ for our policy $\\pi$. Our agent visited state $s_t$ and we know total reward $G_t$. When agent visites the state $s_t$, we can improve estimation of $V^{\\pi}$ using exponential smoothing\n",
    "$$V^{\\pi}_{n+1}(s_t) = V_{n}^{\\pi}(s_t) + \\alpha \\big(G_t - V_{n}^{\\pi}(s_t)\\big).$$\n",
    "\n",
    "However, you can make some trick and rewrite $G_t$\n",
    "$$V_{n+1}^{\\pi}(s_t) = V_{n}^{\\pi}(s_t) + \\alpha \\big(R_t + \\gamma V^{\\pi}(S_{t+1}) - V_{n}^{\\pi}(s_t)\\big),$$\n",
    "so we can update $V^{\\pi}(s_t)$ after each visiting $s_t$. Similarly, we can compute\n",
    "$$Q_{n+1}(s_t, a_t) = Q_{n}(s_t, a_t) + \\alpha \\big(R_{t+1} + \\gamma Q^{\\pi}(S_{t+1}, A_{t+1}) - Q_{n}^{\\pi}(s_t, a_t)\\big).$$\n",
    "\n",
    "#### SARSA (State-Action-Reward-State-Action)\n",
    "So, we want to find optimal policy $\\pi^{*}$. Let's suppose we have some initial approximation $Q(s, a)$. We use нее $\\varepsilon$-greedy policy $\\mathcal{A}_s = \\arg\\max_{a \\in \\mathcal{A}} Q(s, a)$. \n",
    "\n",
    "$$\\pi(a|s)=\\frac{1-\\varepsilon}{|\\mathcal{A}_s|}[a \\in \\mathcal{A}_s] + \\frac{\\varepsilon}{|\\mathcal{A}|},\\ \\varepsilon \\in [0, 1].$$\n",
    "\n",
    "In accordance with policy $\\pi$ we choose $a_t$ and get reward $R_{t+1}$, after that environment move agent to state $S_{t+1}$. Agent one more time choose action $A_{t+1} \\sim \\pi(a|S_{t+1})$ and doesn't act in the environemnt, but only update $Q$ function\n",
    "$$Q(s_t, a_t) = Q(s_t, a_t) + \\alpha \\big(R_{t+1} + \\gamma Q^{\\pi}(S_{t+1}, A_{t+1}) - Q^{\\pi}(s_t, a_t)\\big).$$\n",
    "\n",
    "Also, there is more variation of this idea, that uses expected Q-value.\n",
    "$$Q(s_t, a_t) = Q(s_t, a_t) + \\alpha \\big(R_{t+1} + \\gamma \\sum_b \\pi(b|S_{t+1}) Q^{\\pi}(S_{t+1}, b) - Q^{\\pi}(s_t, a_t)\\big).$$\n",
    "So we use $\\varepsilon$-greedy approach to improve our policy and evaluate.\n",
    "\n",
    "####  Q-learning\n",
    "The idea of this method is rather similar, but we also greedy update action-value function $Q$ \n",
    "$$Q(s_t, a_t) = Q(s_t, a_t) + \\alpha \\big(R_{t+1} + \\gamma \\max_{b} Q(S_{t+1}, b) - Q(s_t, a_t)\\big).$$ For choosing actions during learning agent can use any policy, e.g. $\\varepsilon$-greedy or softmax policy.\n",
    "\n",
    "#### Exercises\n",
    "1. Implement both algorithm for our model problem.\n",
    "2. Which one converges faster? How can you estimate it?\n",
    "3. Compare how action-value function $Q(s_t, a_t)$ differs for these two methods.\n",
    "4. Try to play with your agents...\n",
    "5. Use intentionally losing strategy for Os. What happened?\n",
    "6. Try to beat the agent for Xs."
   ]
  }
 ],
 "metadata": {
  "kernelspec": {
   "display_name": "Python 3",
   "language": "python",
   "name": "python3"
  },
  "language_info": {
   "codemirror_mode": {
    "name": "ipython",
    "version": 3
   },
   "file_extension": ".py",
   "mimetype": "text/x-python",
   "name": "python",
   "nbconvert_exporter": "python",
   "pygments_lexer": "ipython3",
   "version": "3.6.7"
  }
 },
 "nbformat": 4,
 "nbformat_minor": 1
}
