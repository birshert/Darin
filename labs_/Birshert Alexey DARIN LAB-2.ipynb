{
 "cells": [
  {
   "cell_type": "markdown",
   "metadata": {},
   "source": [
    "# L2 – Multilayer perceptron\n",
    "\n",
    "### PyTorch\n",
    "1. [Installing PyTorch](https://pytorch.org/get-started/locally/)\n",
    "2. [What is PyTorch?](https://pytorch.org/tutorials/beginner/blitz/tensor_tutorial.html#sphx-glr-beginner-blitz-tensor-tutorial-py)\n",
    "3. [Autograd](https://pytorch.org/tutorials/beginner/blitz/autograd_tutorial.html#sphx-glr-beginner-blitz-autograd-tutorial-py)\n",
    "4. [Useful examples](https://pytorch.org/tutorials/beginner/pytorch_with_examples.html)\n",
    "5. [Mnist example](https://habr.com/company/otus/blog/358096/)\n",
    "\n",
    "\n",
    "### One more thing\n",
    "1. [Jupyter tutorial](https://habrahabr.ru/company/wunderfund/blog/316826/)\n",
    "2. [Plot.ly](https://plot.ly/python/)\n",
    "3. [Widgets](http://jupyter.org/widgets.html)"
   ]
  },
  {
   "cell_type": "code",
   "execution_count": 3,
   "metadata": {},
   "outputs": [],
   "source": [
    "import torch\n",
    "from torch import utils\n",
    "from torchvision import datasets, transforms\n",
    "import matplotlib\n",
    "import matplotlib.pyplot as plt\n",
    "import numpy as np\n",
    "from torch.autograd import Variable\n",
    "import torch.nn as nn\n",
    "import torch.nn.functional as F\n",
    "import torch.optim as optim"
   ]
  },
  {
   "cell_type": "markdown",
   "metadata": {},
   "source": [
    "### 1. Linear multi-classification problem\n",
    "\n",
    "We have already learned binary linear classifier\n",
    "$$y = \\text{sign}(w^Tx).$$\n",
    "There are [several approaches](https://en.wikipedia.org/wiki/Multiclass_classification) to solve the problem of multi-class classification. For example [reduction](https://en.wikipedia.org/wiki/Multiclass_classification#Transformation_to_Binary) of problem to binary classifier or [modification](https://en.wikipedia.org/wiki/Support_vector_machine#Multiclass_SVM) of the known model. However we are interested in approaches that is applied in neural networks.\n",
    "\n",
    "For each class $c \\in 1, \\dots, |C|$ we have an individual row $w_i$ of matrix $W$. Then the probability of $x$ belonging to a particular class is equal to\n",
    "$$p_i = \\frac{\\exp(w^T_ix)}{\\sum_j \\exp(w^T_jx)}.$$\n",
    "This is nothing, but [softmax](https://en.wikipedia.org/wiki/Softmax_function) function of $Wx$.\n",
    "$$(p_1, \\dots, p_{|C|}) = \\text{softmax}(Wx).$$\n",
    "\n",
    "If you look closely, $\\text{softmax}$ is a more general variant of sigmoid. To see this, it suffices to consider the case $|C|=2$. As usual the training can be reduced to minimization of the empirical risk, namely, optimization problem\n",
    "$$\\arg\\min_W Q(W) = \\arg\\min_W -\\frac{1}{\\mathcal{l}}\\sum_y\\sum_i [y = i] \\cdot \\ln(p_i(W)).$$\n",
    "Actually, the maximization of the log-likelihood is written above.\n",
    "\n",
    "#### Exercises\n",
    "1. Find $\\frac{dQ}{dW}$ in matrix form (hint: start with $\\frac{dQ}{dw_i}$ for begining).\n",
    "2. Please plot several mnist images (e.g using grid 5x5).\n",
    "3. Train linear multi-label classifier for [mnist](https://www.kaggle.com/c/digit-recognizer) dataset (possible, [this tutorial](https://habr.com/company/otus/blog/358096/) can help you).\n",
    "4. Chek accuracy on train and validation sets (visualize resulted graph)."
   ]
  },
  {
   "cell_type": "markdown",
   "metadata": {},
   "source": [
    "$$\\dfrac{\\partial Q}{\\partial W} = \\left(\\dfrac{\\partial Q}{\\partial w_1}, \\dots, \\dfrac{\\partial Q}{\\partial w_{|C|}}\\right)$$"
   ]
  },
  {
   "cell_type": "code",
   "execution_count": 4,
   "metadata": {},
   "outputs": [],
   "source": [
    "epochs_number = 8\n",
    "\n",
    "batch_size = 64\n",
    "\n",
    "test_batch_size = 1000\n",
    "\n",
    "torch.manual_seed(1234)\n",
    "\n",
    "device = torch.device(\"cuda\" if torch.cuda.is_available() else \"cpu\")\n",
    "\n",
    "kwargs = {'num_workers': 1, 'pin_memory': True} if torch.cuda.is_available() else {}"
   ]
  },
  {
   "cell_type": "code",
   "execution_count": 5,
   "metadata": {},
   "outputs": [],
   "source": [
    "train_loader = torch.utils.data.DataLoader(\n",
    "        datasets.MNIST('../data', train=True, download=True,\n",
    "                       transform=transforms.Compose([\n",
    "                           transforms.ToTensor(),\n",
    "                           transforms.Normalize((0.1307,), (0.3081,))\n",
    "                       ])),\n",
    "        batch_size=batch_size, shuffle=True, **kwargs)\n",
    "\n",
    "test_loader = torch.utils.data.DataLoader(\n",
    "        datasets.MNIST('../data', train=False, transform=transforms.Compose([\n",
    "                           transforms.ToTensor(),\n",
    "                           transforms.Normalize((0.1307,), (0.3081,))\n",
    "                       ])),\n",
    "        batch_size=test_batch_size, shuffle=True, **kwargs)"
   ]
  },
  {
   "cell_type": "code",
   "execution_count": 6,
   "metadata": {},
   "outputs": [],
   "source": [
    "class Linear(nn.Module):\n",
    "    def __init__(self):\n",
    "        super(Linear, self).__init__()\n",
    "        self.fc1 = nn.Linear(784, 10)\n",
    "        torch.nn.init.constant_(self.fc1.weight.data, 0) \n",
    "        \n",
    "    def forward(self, x):\n",
    "        x = x.view(-1, 28*28)\n",
    "        x = self.fc1(x)\n",
    "        return F.log_softmax(x, dim=1)"
   ]
  },
  {
   "cell_type": "code",
   "execution_count": 7,
   "metadata": {},
   "outputs": [],
   "source": [
    "def train(model, devic):\n",
    "    model.train()\n",
    "    for data, target in train_loader:\n",
    "        data, target = data.to(devic), target.to(devic)\n",
    "        optimizer.zero_grad()\n",
    "        output = model(data)\n",
    "        loss = F.nll_loss(output, target)\n",
    "        loss.backward()\n",
    "        optimizer.step()"
   ]
  },
  {
   "cell_type": "code",
   "execution_count": 8,
   "metadata": {},
   "outputs": [],
   "source": [
    "def test(model, log, devic):\n",
    "    model.eval()\n",
    "    with torch.no_grad():\n",
    "        test_correct = 0\n",
    "        \n",
    "        for data, target in test_loader:\n",
    "            data, target = data.to(devic), target.to(devic)\n",
    "            output = model(data)\n",
    "            pred = output.data.max(1, keepdim=True)[1]\n",
    "            test_correct += pred.eq(target.data.view_as(pred)).sum()\n",
    "            \n",
    "        test_correct_percent = 100. * test_correct / len(test_loader.dataset)\n",
    "\n",
    "        train_correct = 0\n",
    "        for data, target in train_loader:\n",
    "            data, target = data.to(devic), target.to(devic)\n",
    "            output = model(data)\n",
    "            pred = output.data.max(1, keepdim=True)[1]\n",
    "            train_correct += pred.eq(target.data.view_as(pred)).sum()\n",
    "        train_correct_percent = 100. * train_correct / len(train_loader.dataset)\n",
    "    \n",
    "    print('\\nTest set: Accuracy: {}/{} ({:.0f}%)'.format(test_correct, len(test_loader.dataset), test_correct_percent))\n",
    "    \n",
    "    print('Train set: Accuracy: {}/{} ({:.0f}%)\\n'.format(train_correct, len(train_loader.dataset), train_correct_percent))\n",
    "    \n",
    "    \n",
    "    log['test'].append(test_correct_percent)\n",
    "    log['train'].append(train_correct_percent)"
   ]
  },
  {
   "cell_type": "code",
   "execution_count": 9,
   "metadata": {},
   "outputs": [],
   "source": [
    "def plot_results(log):\n",
    "    test_log_acc = [log['test'][i] for i in range(len(log['test']))]\n",
    "    train_log_acc =  [log['train'][i] for i in range(len(log['train']))]\n",
    "    epochs = [i for i in range(1, epochs_number + 1)]\n",
    "    \n",
    "    plt.plot(epochs, test_log_acc, color = 'green', label = 'test')\n",
    "    plt.plot(epochs, train_log_acc, color = 'blue', label = 'train')\n",
    "    plt.legend()\n",
    "    \n",
    "    plt.xlabel('epoch')\n",
    "    plt.ylabel('accuracy')\n",
    "    \n",
    "    plt.show()"
   ]
  },
  {
   "cell_type": "code",
   "execution_count": 8,
   "metadata": {},
   "outputs": [
    {
     "name": "stdout",
     "output_type": "stream",
     "text": [
      "Epoch number 1\n",
      "\n",
      "Test set: Accuracy: 9199/10000 (91%)\n",
      "Train set: Accuracy: 54994/60000 (91%)\n",
      "\n",
      "Epoch number 2\n",
      "\n",
      "Test set: Accuracy: 9231/10000 (92%)\n",
      "Train set: Accuracy: 55460/60000 (92%)\n",
      "\n",
      "Epoch number 3\n",
      "\n",
      "Test set: Accuracy: 9228/10000 (92%)\n",
      "Train set: Accuracy: 55535/60000 (92%)\n",
      "\n",
      "Epoch number 4\n",
      "\n",
      "Test set: Accuracy: 9245/10000 (92%)\n",
      "Train set: Accuracy: 55690/60000 (92%)\n",
      "\n",
      "Epoch number 5\n",
      "\n",
      "Test set: Accuracy: 9246/10000 (92%)\n",
      "Train set: Accuracy: 55703/60000 (92%)\n",
      "\n",
      "Epoch number 6\n",
      "\n",
      "Test set: Accuracy: 9216/10000 (92%)\n",
      "Train set: Accuracy: 55784/60000 (92%)\n",
      "\n",
      "Epoch number 7\n",
      "\n",
      "Test set: Accuracy: 9245/10000 (92%)\n",
      "Train set: Accuracy: 55869/60000 (93%)\n",
      "\n",
      "Epoch number 8\n",
      "\n",
      "Test set: Accuracy: 9246/10000 (92%)\n",
      "Train set: Accuracy: 55859/60000 (93%)\n",
      "\n"
     ]
    }
   ],
   "source": [
    "model1 = Linear()\n",
    "\n",
    "optimizer = optim.Adam(model1.parameters())\n",
    "\n",
    "log = {'test' : [], 'train' : []}\n",
    "\n",
    "for epoch in range(1, epochs_number + 1):\n",
    "    print('Epoch number', epoch)\n",
    "    train(model1, device)\n",
    "    test(model1, log, device)"
   ]
  },
  {
   "cell_type": "code",
   "execution_count": 9,
   "metadata": {},
   "outputs": [
    {
     "data": {
      "image/png": "[encoded data removed]",
      "text/plain": [
       "<Figure size 432x288 with 1 Axes>"
      ]
     },
     "metadata": {
      "needs_background": "light"
     },
     "output_type": "display_data"
    }
   ],
   "source": [
    "plot_results(log)"
   ]
  },
  {
   "cell_type": "markdown",
   "metadata": {},
   "source": [
    "Let's briefly touch on themes of regularization. As was discussed before, there are different approaches. We focus on the modification of loss function.\n",
    "\n",
    "$$\\arg\\min_W -\\frac{1}{\\mathcal{l}}\\sum_y\\sum_i [y = i] \\cdot \\ln(p_i(W)) + \\lambda_1 L_1(W) + \\lambda_2 L_2(W)$$\n",
    "\n",
    "1. $L_1(W) = sum_{i,j} |w_{i,j}|$ - sparsify weights (force to not use uncorrelated features)\n",
    "2. $L_2(W) = sum_{i,j} w_{i,j}^2$ - minimize weights (force to not overfit)\n",
    "\n",
    "#### Exercises\n",
    "1. Train model again using both type of regularization.\n",
    "2. Plot matrix of weights.\n",
    "3. Which pixels have zero weights? What does it mean?\n",
    "4. Have you improved accuracy on validation?"
   ]
  },
  {
   "cell_type": "code",
   "execution_count": 10,
   "metadata": {},
   "outputs": [],
   "source": [
    "lmbd_1 = 10\n",
    "\n",
    "lmbd_2 = 100"
   ]
  },
  {
   "cell_type": "code",
   "execution_count": 11,
   "metadata": {},
   "outputs": [
    {
     "name": "stdout",
     "output_type": "stream",
     "text": [
      "Epoch number 1\n",
      "\n",
      "Test set: Accuracy: 9179/10000 (91%)\n",
      "Train set: Accuracy: 55034/60000 (91%)\n",
      "\n",
      "Epoch number 2\n",
      "\n",
      "Test set: Accuracy: 9219/10000 (92%)\n",
      "Train set: Accuracy: 55397/60000 (92%)\n",
      "\n",
      "Epoch number 3\n",
      "\n",
      "Test set: Accuracy: 9217/10000 (92%)\n",
      "Train set: Accuracy: 55446/60000 (92%)\n",
      "\n",
      "Epoch number 4\n",
      "\n",
      "Test set: Accuracy: 9188/10000 (91%)\n",
      "Train set: Accuracy: 55399/60000 (92%)\n",
      "\n",
      "Epoch number 5\n",
      "\n",
      "Test set: Accuracy: 9240/10000 (92%)\n",
      "Train set: Accuracy: 55669/60000 (92%)\n",
      "\n",
      "Epoch number 6\n",
      "\n",
      "Test set: Accuracy: 9219/10000 (92%)\n",
      "Train set: Accuracy: 55796/60000 (92%)\n",
      "\n",
      "Epoch number 7\n",
      "\n",
      "Test set: Accuracy: 9235/10000 (92%)\n",
      "Train set: Accuracy: 55833/60000 (93%)\n",
      "\n",
      "Epoch number 8\n",
      "\n",
      "Test set: Accuracy: 9240/10000 (92%)\n",
      "Train set: Accuracy: 55740/60000 (92%)\n",
      "\n"
     ]
    }
   ],
   "source": [
    "def train_with_reg(model, device):\n",
    "    for data, target in train_loader:\n",
    "        data, target = data.to(device), target.to(device)\n",
    "        optimizer.zero_grad()\n",
    "        output = model(data)\n",
    "        loss = F.nll_loss(output, target) + lmbd_1 * (torch.norm(model.fc1.weight.data, 1)) + lmbd_2 * (torch.norm(model.fc1.weight.data, 2))\n",
    "        loss.backward()\n",
    "        optimizer.step()\n",
    "        \n",
    "model2 = Linear()\n",
    "\n",
    "optimizer = optim.Adam(model2.parameters())\n",
    "\n",
    "log = {'test' : [], 'train' : []}\n",
    "\n",
    "for epoch in range(1, epochs_number + 1):\n",
    "    print('Epoch number', epoch)\n",
    "    train_with_reg(model2, device)\n",
    "    test(model2, log, device)"
   ]
  },
  {
   "cell_type": "code",
   "execution_count": 12,
   "metadata": {},
   "outputs": [
    {
     "data": {
      "image/png": "[encoded data removed]",
      "text/plain": [
       "<Figure size 432x288 with 1 Axes>"
      ]
     },
     "metadata": {
      "needs_background": "light"
     },
     "output_type": "display_data"
    }
   ],
   "source": [
    "plot_results(log)"
   ]
  },
  {
   "cell_type": "code",
   "execution_count": 13,
   "metadata": {
    "scrolled": false
   },
   "outputs": [
    {
     "name": "stdout",
     "output_type": "stream",
     "text": [
      "tensor([[ 0.0277,  0.0472, -0.0361,  ...,  0.0017,  0.0017,  0.0177],\n",
      "        [ 0.0277,  0.0472, -0.0361,  ...,  0.0017,  0.0017,  0.0177],\n",
      "        [ 0.0277,  0.0472, -0.0361,  ...,  0.0017,  0.0017,  0.0177],\n",
      "        ...,\n",
      "        [ 0.0277,  0.0472, -0.0361,  ...,  0.0017,  0.0017,  0.0177],\n",
      "        [ 0.0277,  0.0472, -0.0361,  ...,  0.0017,  0.0017,  0.0177],\n",
      "        [ 0.0277,  0.0472, -0.0361,  ...,  0.0017,  0.0017,  0.0177]])\n",
      "[] \n",
      " 0 elements\n"
     ]
    }
   ],
   "source": [
    "fc1_zero = []\n",
    "\n",
    "t = torch.transpose(model2.fc1.weight.data, 0, 1)\n",
    "\n",
    "print(t)\n",
    "\n",
    "for i in range(model2.fc1.weight.data.size()[1]):\n",
    "    if torch.norm(t[i], p = 2)  == 0.0:\n",
    "        fc1_zero.append((i // 28, i % 28))\n",
    "        \n",
    "print(fc1_zero, '\\n', len(fc1_zero), 'elements')"
   ]
  },
  {
   "cell_type": "markdown",
   "metadata": {},
   "source": [
    "As we see, nearly all pixels that stay no futher than 2 pixels from the border have zero weight, cause they practically always are white and carry no info"
   ]
  },
  {
   "cell_type": "markdown",
   "metadata": {},
   "source": [
    "### 2. Universal approximation theorem\n",
    "\n",
    "What if we add more layers to our model? Namely, we train two matrix $W_2$ and $W_1$\n",
    "$$softmax(W_2\\cdot(W_1x)).$$\n",
    "\n",
    "At first glance adding more parameters helps to increase the generalizing ability of the model. Buy actually we have the same model $softmax(Wx)$, where $W = W_2\\cdot W_1$. But everyting changes with adding ome more layer. Let's add nonlinear function $\\sigma$ between $W_2$ and $W_1$\n",
    "\n",
    "$$softmax(W_2\\cdot \\sigma(W_1x)).$$\n",
    "\n",
    "Kurt Hornik showed in 1991 that it is not the specific choice of the nonlinear function, but rather the multilayer feedforward architecture itself which gives neural networks the potential of being universal approximators. The output units are always assumed to be linear. For notational convenience, only the single output case will be shown. The general case can easily be deduced from the single output case.\n",
    "\n",
    "Let $\\sigma(\\cdot)$ be a nonconstant, bounded, and monotonically-increasing continuous function.\n",
    "Let $\\mathcal{S}_m \\subset \\mathbb{R}^m$ denote any compact set. \n",
    "Then, given any $\\varepsilon > 0$ and any coninuous function $f$ on $\\mathcal{S}_m$, there exist an integer $N$ and real constants $v_i$, $b_i$ amd real vectors $w_i$ that\n",
    "\n",
    "$$\\left| \\sum _{i=1}^{N}v_{i}\\sigma \\left( w_i^{T} x+b_i \\right) - f(x) \\right| < \\varepsilon, ~~~ \\forall x \\in \\mathcal{S}_m.$$\n",
    "\n",
    "The theorem has non-constructive proof, it meams that no estimates for $N$ and no method to find approximation's parameters.\n",
    "\n",
    "#### Exercises\n",
    "1. Let $\\sigma$ – [heaviside step function](https://en.wikipedia.org/wiki/Heaviside_step_function) and $x \\in \\{0, 1\\}^2$. Prove that $y = \\sigma(wx + b)$ can approximate boolean function **OR** (hint: use constructive proof).\n",
    "2. What about **AND** function?\n",
    "3. Is it possible to implement **XOR**? Prove your words.\n",
    "4. Prove that 2-layer network can implement any boolean function.\n",
    "\n",
    "#### More useful facts:\n",
    "1. A 2-layer network in in $\\mathbb{R}^n$ allows to define convex polyhedron..\n",
    "2. A 3-layer network in в $\\mathbb{R}^n$ allows to define a not necessarily convex and not even necessarily connected area."
   ]
  },
  {
   "cell_type": "markdown",
   "metadata": {},
   "source": [
    "$$\\sigma \\left(\\binom{1}{1}(x, y) - 0.5\\right) = x \\lor y $$\n",
    "\n",
    "$$\\sigma \\left(\\binom{1}{1}(x, y) - 1.5\\right) = x \\land y $$\n",
    "\n",
    "It is not possible to implement **XOR** in a such way, cause it's not linearly separable.\n",
    "\n",
    "\n",
    "We can implement every boolean function with 2-layer network, because every boolean function can be presented as a DNF, so with first layer we can make disjuncts, than conjuct them with the second one"
   ]
  },
  {
   "cell_type": "markdown",
   "metadata": {},
   "source": [
    "### 3. Backpropagation\n",
    "Backpropagation is a method used to calculate the error contribution of each layer after a batch of data. It is a special case of an older and more general technique called automatic differentiation. In the context of learning, backpropagation is commonly used by the gradient descent optimization algorithm to adjust the weight of layers by calculating the gradient of the loss function. This technique is also sometimes called backward propagation of errors, because the error is calculated at the output and distributed back through the network layers. The main motivation of method is simplify evaluation of gradient which is complex problem for multilayer nets.\n",
    "\n",
    "We need the following notation. Let $(y^1,\\dots,y^n) = f(x^1,\\dots,x^n)$ is some differentiable function and $\\frac{dy}{dx}$ is matrix\n",
    "$$\\frac{dy}{dx} = \\Big[ J_{ij} = \\frac{\\partial y^i}{\\partial x^j} \\Big]$$\n",
    "\n",
    "Without violating the generality, we can assume that each layer is a function $x_{i} = f(x_{i-1}, w_i)$. As last layer we add loss function, so we can assume our multi-layer net as function $Q(x_0) = Q(f_n(f_{n-1}(\\dots, w_{n-1}), w_n))$.\n",
    "\n",
    "#### Forward step\n",
    "Propagation forward through the network to generate the output values. Calculation of the loss function.\n",
    "\n",
    "#### Backward step\n",
    "Let's look at last layer. We can simply find $\\frac{dQ}{dx_n}$. Now we can evaluate \n",
    "\n",
    "$$\\frac{dQ}{dw_n} = \\frac{dQ}{dx_n}\\frac{dx_n}{dw_n} \\text{ and } \\frac{dQ}{dx_{n-1}} = \\frac{dQ}{dx_n}\\frac{dx_n}{dx_{n-1}}$$\n",
    "\n",
    "Now we need calculate $\\frac{dQ}{dw_{n-2}}$ и $\\frac{dQ}{dx_{n-2}}$. But we have the same situation. We know $\\frac{dQ}{dx_k}$, so can evaluate $\\frac{dQ}{dw_k}$ and $\\frac{dQ}{dx_{k-1}}$. Repeating this operation we find all the gradients. Now it's only remains to make a gradient step to update weights.\n",
    "\n",
    "#### Exercises\n",
    "1. Read more about [vanishing gradient](https://en.wikipedia.org/wiki/Vanishing_gradient_problem).\n",
    "2. Train 2 layer net. Use sigmoid as nonlinearity.\n",
    "3. Check accuracy on validation set.\n",
    "4. Use [ReLu](https://en.wikipedia.org/wiki/Rectifier_(neural_networks) or LeakyReLu as nonlinearity. Compare accuracy and convergence with previous model.\n",
    "5. Play with different architectures (add more layers, regularization and etc).\n",
    "6. Show your best model.\n",
    "7. How does quality change with adding layers. Prove your words, train model for 2, 3, 5, 7 and 10 layers.\n",
    "8. Using backpropagation find optimal  digit 8 for your net.*"
   ]
  },
  {
   "cell_type": "code",
   "execution_count": 14,
   "metadata": {},
   "outputs": [],
   "source": [
    "class Net_sigmoid(nn.Module):\n",
    "    def __init__(self):\n",
    "        super(Net_sigmoid, self).__init__()\n",
    "        self.fc1 = nn.Linear(784, 200)\n",
    "        torch.nn.init.constant_(self.fc1.weight.data, 0.0) \n",
    "        self.fc2 = nn.Linear(200, 10)\n",
    "        torch.nn.init.constant_(self.fc2.weight.data, 0.0) \n",
    "        \n",
    "    def forward(self, x):\n",
    "        x = x.view(-1, 28*28)\n",
    "        x = torch.sigmoid(self.fc1(x))\n",
    "        x = self.fc2(x)\n",
    "        return F.log_softmax(x, dim=1)\n",
    "    \n",
    "class Net_relu(nn.Module):\n",
    "    def __init__(self):\n",
    "        super(Net_relu, self).__init__()\n",
    "        self.fc1 = nn.Linear(784, 200)\n",
    "        torch.nn.init.constant_(self.fc1.weight.data, 0.0) \n",
    "        self.fc2 = nn.Linear(200, 10)\n",
    "        torch.nn.init.constant_(self.fc2.weight.data, 0.0) \n",
    "        \n",
    "    def forward(self, x):\n",
    "        x = x.view(-1, 28*28)\n",
    "        x = F.relu(self.fc1(x))\n",
    "        x = self.fc2(x)\n",
    "        return F.log_softmax(x, dim=1)"
   ]
  },
  {
   "cell_type": "code",
   "execution_count": 15,
   "metadata": {},
   "outputs": [
    {
     "name": "stdout",
     "output_type": "stream",
     "text": [
      "Epoch number 1\n",
      "\n",
      "Test set: Accuracy: 9427/10000 (94%)\n",
      "Train set: Accuracy: 56494/60000 (94%)\n",
      "\n",
      "Epoch number 2\n",
      "\n",
      "Test set: Accuracy: 9548/10000 (95%)\n",
      "Train set: Accuracy: 57670/60000 (96%)\n",
      "\n",
      "Epoch number 3\n",
      "\n",
      "Test set: Accuracy: 9661/10000 (96%)\n",
      "Train set: Accuracy: 58381/60000 (97%)\n",
      "\n",
      "Epoch number 4\n",
      "\n",
      "Test set: Accuracy: 9679/10000 (96%)\n",
      "Train set: Accuracy: 58845/60000 (98%)\n",
      "\n",
      "Epoch number 5\n",
      "\n",
      "Test set: Accuracy: 9716/10000 (97%)\n",
      "Train set: Accuracy: 59091/60000 (98%)\n",
      "\n",
      "Epoch number 6\n",
      "\n",
      "Test set: Accuracy: 9719/10000 (97%)\n",
      "Train set: Accuracy: 59226/60000 (98%)\n",
      "\n",
      "Epoch number 7\n",
      "\n",
      "Test set: Accuracy: 9748/10000 (97%)\n",
      "Train set: Accuracy: 59480/60000 (99%)\n",
      "\n",
      "Epoch number 8\n",
      "\n",
      "Test set: Accuracy: 9753/10000 (97%)\n",
      "Train set: Accuracy: 59602/60000 (99%)\n",
      "\n"
     ]
    }
   ],
   "source": [
    "model3 = Net_sigmoid()\n",
    "\n",
    "optimizer = optim.Adam(model3.parameters())\n",
    "\n",
    "log = {'test' : [], 'train' : []}\n",
    "\n",
    "for epoch in range(1, epochs_number + 1):\n",
    "    print('Epoch number', epoch)\n",
    "    train(model3, device)\n",
    "    test(model3, log, device)"
   ]
  },
  {
   "cell_type": "code",
   "execution_count": 16,
   "metadata": {},
   "outputs": [
    {
     "data": {
      "image/png": "[encoded data removed]",
      "text/plain": [
       "<Figure size 432x288 with 1 Axes>"
      ]
     },
     "metadata": {
      "needs_background": "light"
     },
     "output_type": "display_data"
    }
   ],
   "source": [
    "plot_results(log)"
   ]
  },
  {
   "cell_type": "code",
   "execution_count": 17,
   "metadata": {},
   "outputs": [
    {
     "name": "stdout",
     "output_type": "stream",
     "text": [
      "Epoch number 1\n",
      "\n",
      "Test set: Accuracy: 9462/10000 (94%)\n",
      "Train set: Accuracy: 56812/60000 (94%)\n",
      "\n",
      "Epoch number 2\n",
      "\n",
      "Test set: Accuracy: 9630/10000 (96%)\n",
      "Train set: Accuracy: 58175/60000 (96%)\n",
      "\n",
      "Epoch number 3\n",
      "\n",
      "Test set: Accuracy: 9693/10000 (96%)\n",
      "Train set: Accuracy: 58602/60000 (97%)\n",
      "\n",
      "Epoch number 4\n",
      "\n",
      "Test set: Accuracy: 9746/10000 (97%)\n",
      "Train set: Accuracy: 59057/60000 (98%)\n",
      "\n",
      "Epoch number 5\n",
      "\n",
      "Test set: Accuracy: 9742/10000 (97%)\n",
      "Train set: Accuracy: 59167/60000 (98%)\n",
      "\n",
      "Epoch number 6\n",
      "\n",
      "Test set: Accuracy: 9749/10000 (97%)\n",
      "Train set: Accuracy: 59367/60000 (98%)\n",
      "\n",
      "Epoch number 7\n",
      "\n",
      "Test set: Accuracy: 9767/10000 (97%)\n",
      "Train set: Accuracy: 59550/60000 (99%)\n",
      "\n",
      "Epoch number 8\n",
      "\n",
      "Test set: Accuracy: 9765/10000 (97%)\n",
      "Train set: Accuracy: 59569/60000 (99%)\n",
      "\n"
     ]
    }
   ],
   "source": [
    "model4 = Net_relu()\n",
    "\n",
    "optimizer = optim.Adam(model4.parameters())\n",
    "\n",
    "log = {'test' : [], 'train' : []}\n",
    "\n",
    "for epoch in range(1, epochs_number + 1):\n",
    "    print('Epoch number', epoch)\n",
    "    train(model4, device)\n",
    "    test(model4, log, device)"
   ]
  },
  {
   "cell_type": "code",
   "execution_count": 18,
   "metadata": {},
   "outputs": [
    {
     "data": {
      "image/png": "[encoded data removed]",
      "text/plain": [
       "<Figure size 432x288 with 1 Axes>"
      ]
     },
     "metadata": {
      "needs_background": "light"
     },
     "output_type": "display_data"
    }
   ],
   "source": [
    "plot_results(log)"
   ]
  },
  {
   "cell_type": "code",
   "execution_count": 19,
   "metadata": {},
   "outputs": [],
   "source": [
    "class Net_2(nn.Module):\n",
    "    def __init__(self):\n",
    "        super(Net_2, self).__init__()\n",
    "        self.fc1 = nn.Linear(784, 200)\n",
    "        torch.nn.init.constant_(self.fc1.weight.data, 0.0) \n",
    "        self.fc2 = nn.Linear(200, 10)\n",
    "        torch.nn.init.constant_(self.fc2.weight.data, 0.0) \n",
    "        \n",
    "    def forward(self, x):\n",
    "        x = x.view(-1, 28*28)\n",
    "        x = F.leaky_relu(self.fc1(x))\n",
    "        x = self.fc2(x)\n",
    "        return  F.log_softmax(x, dim=1)\n",
    "\n",
    "class Net_3(nn.Module):\n",
    "    def __init__(self):\n",
    "        super(Net_3, self).__init__()\n",
    "        self.fc1 = nn.Linear(784, 392)\n",
    "        torch.nn.init.constant_(self.fc1.weight.data, 0.0) \n",
    "        self.fc2 = nn.Linear(392, 100)\n",
    "        torch.nn.init.constant_(self.fc2.weight.data, 0.0) \n",
    "        self.fc3 = nn.Linear(100, 10)\n",
    "        torch.nn.init.constant_(self.fc3.weight.data, 0.0) \n",
    "        \n",
    "    def forward(self, x):\n",
    "        x = x.view(-1, 28*28)\n",
    "        x = F.leaky_relu(self.fc1(x))\n",
    "        x = F.leaky_relu(self.fc2(x))\n",
    "        x = self.fc3(x)\n",
    "        return  F.log_softmax(x, dim=1)\n",
    "    \n",
    "class Net_5(nn.Module):\n",
    "    def __init__(self):\n",
    "        super(Net_5, self).__init__()\n",
    "        self.fc1 = nn.Linear(784, 392)\n",
    "        torch.nn.init.constant_(self.fc1.weight.data, 0.0) \n",
    "        self.fc2 = nn.Linear(392, 196)\n",
    "        torch.nn.init.constant_(self.fc2.weight.data, 0.0) \n",
    "        self.fc3 = nn.Linear(196, 98)\n",
    "        torch.nn.init.constant_(self.fc3.weight.data, 0.0) \n",
    "        self.fc4 = nn.Linear(98, 49)\n",
    "        torch.nn.init.constant_(self.fc4.weight.data, 0.0) \n",
    "        self.fc5 = nn.Linear(49, 10)\n",
    "        torch.nn.init.constant_(self.fc5.weight.data, 0.0) \n",
    "        \n",
    "    def forward(self, x):\n",
    "        x = x.view(-1, 28*28)\n",
    "        x = F.leaky_relu(self.fc1(x))\n",
    "        x = F.leaky_relu(self.fc2(x))\n",
    "        x = F.leaky_relu(self.fc3(x))\n",
    "        x = F.leaky_relu(self.fc4(x))\n",
    "        x = self.fc5(x)\n",
    "        return  F.log_softmax(x, dim=1)\n",
    "    \n",
    "    \n",
    "class Net_7(nn.Module):\n",
    "    def __init__(self):\n",
    "        super(Net_7, self).__init__()\n",
    "        self.fc1 = nn.Linear(784, 392)\n",
    "        torch.nn.init.constant_(self.fc1.weight.data, 0.0) \n",
    "        self.fc2 = nn.Linear(392, 196)\n",
    "        torch.nn.init.constant_(self.fc2.weight.data, 0.0) \n",
    "        self.fc3 = nn.Linear(196, 98)\n",
    "        torch.nn.init.constant_(self.fc3.weight.data, 0.0) \n",
    "        self.fc4 = nn.Linear(98, 49)\n",
    "        torch.nn.init.constant_(self.fc4.weight.data, 0.0) \n",
    "        self.fc5 = nn.Linear(49, 40)\n",
    "        torch.nn.init.constant_(self.fc5.weight.data, 0.0) \n",
    "        self.fc6 = nn.Linear(40, 30)\n",
    "        torch.nn.init.constant_(self.fc6.weight.data, 0.0) \n",
    "        self.fc7 = nn.Linear(30, 10)\n",
    "        torch.nn.init.constant_(self.fc7.weight.data, 0.0) \n",
    "        \n",
    "    def forward(self, x):\n",
    "        x = x.view(-1, 28*28)\n",
    "        x = F.leaky_relu(self.fc1(x))\n",
    "        x = F.leaky_relu(self.fc2(x))\n",
    "        x = F.leaky_relu(self.fc3(x))\n",
    "        x = F.leaky_relu(self.fc4(x))\n",
    "        x = F.leaky_relu(self.fc5(x))\n",
    "        x = F.leaky_relu(self.fc6(x))\n",
    "        x = self.fc7(x)\n",
    "        return  F.log_softmax(x, dim=1)\n",
    "    \n",
    "    \n",
    "\n",
    "class Net_10(nn.Module):\n",
    "    def __init__(self):\n",
    "        super(Net_10, self).__init__()\n",
    "        self.fc1 = nn.Linear(784, 392)\n",
    "        torch.nn.init.constant_(self.fc1.weight.data, 0.0) \n",
    "        self.fc2 = nn.Linear(392, 196)\n",
    "        torch.nn.init.constant_(self.fc2.weight.data, 0.0) \n",
    "        self.fc3 = nn.Linear(196, 100)\n",
    "        torch.nn.init.constant_(self.fc3.weight.data, 0.0) \n",
    "        self.fc4 = nn.Linear(100, 50)\n",
    "        torch.nn.init.constant_(self.fc4.weight.data, 0.0) \n",
    "        self.fc5 = nn.Linear(50, 40)\n",
    "        torch.nn.init.constant_(self.fc5.weight.data, 0.0) \n",
    "        self.fc6 = nn.Linear(40, 30)\n",
    "        torch.nn.init.constant_(self.fc6.weight.data, 0.0) \n",
    "        self.fc7 = nn.Linear(30, 20)\n",
    "        torch.nn.init.constant_(self.fc7.weight.data, 0.0) \n",
    "        self.fc8 = nn.Linear(20, 18)\n",
    "        torch.nn.init.constant_(self.fc8.weight.data, 0.0) \n",
    "        self.fc9 = nn.Linear(18, 15)\n",
    "        torch.nn.init.constant_(self.fc9.weight.data, 0.0) \n",
    "        self.fc10 = nn.Linear(15, 10)\n",
    "        torch.nn.init.constant_(self.fc10.weight.data, 0.0) \n",
    "        \n",
    "    def forward(self, x):\n",
    "        x = x.view(-1, 28*28)\n",
    "        x = F.leaky_relu(self.fc1(x))\n",
    "        x = F.leaky_relu(self.fc2(x))\n",
    "        x = F.leaky_relu(self.fc3(x))\n",
    "        x = F.leaky_relu(self.fc4(x))\n",
    "        x = F.leaky_relu(self.fc5(x))\n",
    "        x = F.leaky_relu(self.fc6(x))\n",
    "        x = F.leaky_relu(self.fc7(x))\n",
    "        x = F.leaky_relu(self.fc8(x))\n",
    "        x = F.leaky_relu(self.fc9(x))\n",
    "        x = self.fc10(x)\n",
    "        return  F.log_softmax(x, dim=1)"
   ]
  },
  {
   "cell_type": "code",
   "execution_count": 20,
   "metadata": {},
   "outputs": [
    {
     "name": "stdout",
     "output_type": "stream",
     "text": [
      "Epoch number 1\n",
      "\n",
      "Test set: Accuracy: 9481/10000 (94%)\n",
      "Train set: Accuracy: 56917/60000 (94%)\n",
      "\n",
      "Epoch number 2\n",
      "\n",
      "Test set: Accuracy: 9650/10000 (96%)\n",
      "Train set: Accuracy: 58112/60000 (96%)\n",
      "\n",
      "Epoch number 3\n",
      "\n",
      "Test set: Accuracy: 9703/10000 (97%)\n",
      "Train set: Accuracy: 58739/60000 (97%)\n",
      "\n",
      "Epoch number 4\n",
      "\n",
      "Test set: Accuracy: 9704/10000 (97%)\n",
      "Train set: Accuracy: 58997/60000 (98%)\n",
      "\n",
      "Epoch number 5\n",
      "\n",
      "Test set: Accuracy: 9752/10000 (97%)\n",
      "Train set: Accuracy: 59188/60000 (98%)\n",
      "\n",
      "Epoch number 6\n",
      "\n",
      "Test set: Accuracy: 9778/10000 (97%)\n",
      "Train set: Accuracy: 59463/60000 (99%)\n",
      "\n",
      "Epoch number 7\n",
      "\n",
      "Test set: Accuracy: 9776/10000 (97%)\n",
      "Train set: Accuracy: 59516/60000 (99%)\n",
      "\n",
      "Epoch number 8\n",
      "\n",
      "Test set: Accuracy: 9780/10000 (97%)\n",
      "Train set: Accuracy: 59550/60000 (99%)\n",
      "\n"
     ]
    }
   ],
   "source": [
    "model5 = Net_2()\n",
    "\n",
    "optimizer = optim.Adam(model5.parameters(), lr = 0.001)\n",
    "\n",
    "log = {'test' : [], 'train' : []}\n",
    "\n",
    "for epoch in range(1, epochs_number + 1):\n",
    "    print('Epoch number', epoch)\n",
    "    train(model5, device)\n",
    "    test(model5, log, device)"
   ]
  },
  {
   "cell_type": "code",
   "execution_count": 21,
   "metadata": {},
   "outputs": [
    {
     "data": {
      "image/png": "[encoded data removed]",
      "text/plain": [
       "<Figure size 432x288 with 1 Axes>"
      ]
     },
     "metadata": {
      "needs_background": "light"
     },
     "output_type": "display_data"
    }
   ],
   "source": [
    "plot_results(log)"
   ]
  },
  {
   "cell_type": "code",
   "execution_count": 22,
   "metadata": {},
   "outputs": [
    {
     "name": "stdout",
     "output_type": "stream",
     "text": [
      "Epoch number 1\n",
      "\n",
      "Test set: Accuracy: 9396/10000 (93%)\n",
      "Train set: Accuracy: 56767/60000 (94%)\n",
      "\n",
      "Epoch number 2\n",
      "\n",
      "Test set: Accuracy: 9675/10000 (96%)\n",
      "Train set: Accuracy: 58318/60000 (97%)\n",
      "\n",
      "Epoch number 3\n",
      "\n",
      "Test set: Accuracy: 9709/10000 (97%)\n",
      "Train set: Accuracy: 58584/60000 (97%)\n",
      "\n",
      "Epoch number 4\n",
      "\n",
      "Test set: Accuracy: 9762/10000 (97%)\n",
      "Train set: Accuracy: 59077/60000 (98%)\n",
      "\n",
      "Epoch number 5\n",
      "\n",
      "Test set: Accuracy: 9681/10000 (96%)\n",
      "Train set: Accuracy: 58868/60000 (98%)\n",
      "\n",
      "Epoch number 6\n",
      "\n",
      "Test set: Accuracy: 9743/10000 (97%)\n",
      "Train set: Accuracy: 59297/60000 (98%)\n",
      "\n",
      "Epoch number 7\n",
      "\n",
      "Test set: Accuracy: 9789/10000 (97%)\n",
      "Train set: Accuracy: 59612/60000 (99%)\n",
      "\n",
      "Epoch number 8\n",
      "\n",
      "Test set: Accuracy: 9777/10000 (97%)\n",
      "Train set: Accuracy: 59573/60000 (99%)\n",
      "\n"
     ]
    }
   ],
   "source": [
    "model6 = Net_3()\n",
    "\n",
    "optimizer = optim.Adam(model6.parameters())\n",
    "\n",
    "log = {'test' : [], 'train' : []}\n",
    "\n",
    "for epoch in range(1, epochs_number + 1):\n",
    "    print('Epoch number', epoch)\n",
    "    train(model6, device)\n",
    "    test(model6, log, device)"
   ]
  },
  {
   "cell_type": "code",
   "execution_count": 23,
   "metadata": {},
   "outputs": [
    {
     "data": {
      "image/png": "[encoded data removed]",
      "text/plain": [
       "<Figure size 432x288 with 1 Axes>"
      ]
     },
     "metadata": {
      "needs_background": "light"
     },
     "output_type": "display_data"
    }
   ],
   "source": [
    "plot_results(log)"
   ]
  },
  {
   "cell_type": "code",
   "execution_count": 24,
   "metadata": {},
   "outputs": [
    {
     "name": "stdout",
     "output_type": "stream",
     "text": [
      "Epoch number 1\n",
      "\n",
      "Test set: Accuracy: 9159/10000 (91%)\n",
      "Train set: Accuracy: 55301/60000 (92%)\n",
      "\n",
      "Epoch number 2\n",
      "\n",
      "Test set: Accuracy: 9461/10000 (94%)\n",
      "Train set: Accuracy: 57333/60000 (95%)\n",
      "\n",
      "Epoch number 3\n",
      "\n",
      "Test set: Accuracy: 9489/10000 (94%)\n",
      "Train set: Accuracy: 57328/60000 (95%)\n",
      "\n",
      "Epoch number 4\n",
      "\n",
      "Test set: Accuracy: 9666/10000 (96%)\n",
      "Train set: Accuracy: 58743/60000 (97%)\n",
      "\n",
      "Epoch number 5\n",
      "\n",
      "Test set: Accuracy: 9682/10000 (96%)\n",
      "Train set: Accuracy: 58962/60000 (98%)\n",
      "\n",
      "Epoch number 6\n",
      "\n",
      "Test set: Accuracy: 9649/10000 (96%)\n",
      "Train set: Accuracy: 58830/60000 (98%)\n",
      "\n",
      "Epoch number 7\n",
      "\n",
      "Test set: Accuracy: 9681/10000 (96%)\n",
      "Train set: Accuracy: 58991/60000 (98%)\n",
      "\n",
      "Epoch number 8\n",
      "\n",
      "Test set: Accuracy: 9697/10000 (96%)\n",
      "Train set: Accuracy: 59020/60000 (98%)\n",
      "\n"
     ]
    }
   ],
   "source": [
    "model7 = Net_5()\n",
    "\n",
    "optimizer = optim.Adam(model7.parameters())\n",
    "\n",
    "log = {'test' : [], 'train' : []}\n",
    "\n",
    "for epoch in range(1, epochs_number + 1):\n",
    "    print('Epoch number', epoch)\n",
    "    train(model7, device)\n",
    "    test(model7, log, device)"
   ]
  },
  {
   "cell_type": "code",
   "execution_count": 25,
   "metadata": {},
   "outputs": [
    {
     "data": {
      "image/png": "[encoded data removed]",
      "text/plain": [
       "<Figure size 432x288 with 1 Axes>"
      ]
     },
     "metadata": {
      "needs_background": "light"
     },
     "output_type": "display_data"
    }
   ],
   "source": [
    "plot_results(log)"
   ]
  },
  {
   "cell_type": "code",
   "execution_count": 26,
   "metadata": {},
   "outputs": [
    {
     "name": "stdout",
     "output_type": "stream",
     "text": [
      "Epoch number 1\n",
      "\n",
      "Test set: Accuracy: 4755/10000 (47%)\n",
      "Train set: Accuracy: 28751/60000 (47%)\n",
      "\n",
      "Epoch number 2\n",
      "\n",
      "Test set: Accuracy: 8398/10000 (83%)\n",
      "Train set: Accuracy: 50223/60000 (83%)\n",
      "\n",
      "Epoch number 3\n",
      "\n",
      "Test set: Accuracy: 9356/10000 (93%)\n",
      "Train set: Accuracy: 56406/60000 (94%)\n",
      "\n",
      "Epoch number 4\n",
      "\n",
      "Test set: Accuracy: 9528/10000 (95%)\n",
      "Train set: Accuracy: 57755/60000 (96%)\n",
      "\n",
      "Epoch number 5\n",
      "\n",
      "Test set: Accuracy: 9571/10000 (95%)\n",
      "Train set: Accuracy: 58114/60000 (96%)\n",
      "\n",
      "Epoch number 6\n",
      "\n",
      "Test set: Accuracy: 9628/10000 (96%)\n",
      "Train set: Accuracy: 58563/60000 (97%)\n",
      "\n",
      "Epoch number 7\n",
      "\n",
      "Test set: Accuracy: 9675/10000 (96%)\n",
      "Train set: Accuracy: 58877/60000 (98%)\n",
      "\n",
      "Epoch number 8\n",
      "\n",
      "Test set: Accuracy: 9694/10000 (96%)\n",
      "Train set: Accuracy: 59038/60000 (98%)\n",
      "\n"
     ]
    }
   ],
   "source": [
    "model8 = Net_7()\n",
    "\n",
    "optimizer = optim.Adam(model8.parameters())\n",
    "\n",
    "log = {'test' : [], 'train' : []}\n",
    "\n",
    "for epoch in range(1, epochs_number + 1):\n",
    "    print('Epoch number', epoch)\n",
    "    train(model8, device)\n",
    "    test(model8, log, device)"
   ]
  },
  {
   "cell_type": "code",
   "execution_count": 27,
   "metadata": {},
   "outputs": [
    {
     "data": {
      "image/png": "[encoded data removed]",
      "text/plain": [
       "<Figure size 432x288 with 1 Axes>"
      ]
     },
     "metadata": {
      "needs_background": "light"
     },
     "output_type": "display_data"
    }
   ],
   "source": [
    "plot_results(log)"
   ]
  },
  {
   "cell_type": "code",
   "execution_count": 28,
   "metadata": {},
   "outputs": [
    {
     "name": "stdout",
     "output_type": "stream",
     "text": [
      "Epoch number 1\n",
      "\n",
      "Test set: Accuracy: 4730/10000 (47%)\n",
      "Train set: Accuracy: 28973/60000 (48%)\n",
      "\n",
      "Epoch number 2\n",
      "\n",
      "Test set: Accuracy: 6664/10000 (66%)\n",
      "Train set: Accuracy: 40296/60000 (67%)\n",
      "\n",
      "Epoch number 3\n",
      "\n",
      "Test set: Accuracy: 8261/10000 (82%)\n",
      "Train set: Accuracy: 49924/60000 (83%)\n",
      "\n",
      "Epoch number 4\n",
      "\n",
      "Test set: Accuracy: 9216/10000 (92%)\n",
      "Train set: Accuracy: 55517/60000 (92%)\n",
      "\n",
      "Epoch number 5\n",
      "\n",
      "Test set: Accuracy: 9308/10000 (93%)\n",
      "Train set: Accuracy: 56130/60000 (93%)\n",
      "\n",
      "Epoch number 6\n",
      "\n",
      "Test set: Accuracy: 9511/10000 (95%)\n",
      "Train set: Accuracy: 57405/60000 (95%)\n",
      "\n",
      "Epoch number 7\n",
      "\n",
      "Test set: Accuracy: 9574/10000 (95%)\n",
      "Train set: Accuracy: 57950/60000 (96%)\n",
      "\n",
      "Epoch number 8\n",
      "\n",
      "Test set: Accuracy: 9642/10000 (96%)\n",
      "Train set: Accuracy: 58377/60000 (97%)\n",
      "\n"
     ]
    }
   ],
   "source": [
    "model9 = Net_10()\n",
    "\n",
    "optimizer = optim.Adam(model9.parameters())\n",
    "\n",
    "log = {'test' : [], 'train' : []}\n",
    "\n",
    "for epoch in range(1, epochs_number + 1):\n",
    "    print('Epoch number', epoch)\n",
    "    train(model9, device)\n",
    "    test(model9, log, device)"
   ]
  },
  {
   "cell_type": "code",
   "execution_count": 29,
   "metadata": {},
   "outputs": [
    {
     "data": {
      "image/png": "[encoded data removed]",
      "text/plain": [
       "<Figure size 432x288 with 1 Axes>"
      ]
     },
     "metadata": {
      "needs_background": "light"
     },
     "output_type": "display_data"
    }
   ],
   "source": [
    "plot_results(log)"
   ]
  },
  {
   "cell_type": "markdown",
   "metadata": {},
   "source": [
    "### 4. Autoencoders\n",
    "An autoencoder is an network used for unsupervised learning of efficient codings. The aim of an autoencoder is to learn a representation (encoding) for a set of data, typically for the purpose of dimensionality reduction. Also, this technique can be used to train deep nets.\n",
    "\n",
    "Architecturally, the simplest form of an autoencoder is a feedforward net very similar to the multilayer perceptron (MLP), but with the output layer having the same number of nodes as the input layer, and with the purpose of reconstructing its own inputs. Therefore, autoencoders are unsupervised learning models. An autoencoder always consists of two parts, the encoder and the decoder. Encoder returns latent representation of the object (compressed representation, usuallu smaller dimension), but decoder restores object from this latent representation. Autoencoders are also trained to minimise reconstruction errors (e.g. MSE).\n",
    "\n",
    "Various techniques exist to prevent autoencoders from learning the identity and to improve their ability to capture important information:\n",
    "1. Denoising autoencoder - take a partially corrupted input.\n",
    "2. Sparse autoencoder - impose sparsity on the hidden units during training (whilst having a larger number of hidden units than inputs).\n",
    "3. Variational autoencoder models inherit autoencoder architecture, but make strong assumptions concerning the distribution of latent variables.\n",
    "4. Contractive autoencoder - add an explicit regularizer in objective function that forces the model to learn a function that is robust to slight variations of input values.\n",
    "\n",
    "#### Exercises\n",
    "1. Train 2 layers autoencoder that compressed mnist images to $\\mathbb{R}^3$ space.\n",
    "2. For each digit plot several samples in 3D axis (use \"%matplotlib notebook\" mode or plotly). How do digits group?\n",
    "3. Train autoencoder with more layers. What are results?\n",
    "4. Use autoencoder to pretrain 2 layers (unsupervised) and then train the following layers with supervised method."
   ]
  },
  {
   "cell_type": "code",
   "execution_count": 40,
   "metadata": {},
   "outputs": [],
   "source": [
    "from torchvision.datasets import MNIST\n",
    "\n",
    "\n",
    "def to_img(x):\n",
    "    x = 0.5 * (x + 1)\n",
    "    x = x.clamp(0, 1)\n",
    "    x = x.view(x.size(0), 1, 28, 28)\n",
    "    return x\n",
    "\n",
    "\n",
    "img_transform = transforms.Compose([\n",
    "    transforms.ToTensor(),\n",
    "    transforms.Normalize((0.5, 0.5, 0.5), (0.5, 0.5, 0.5))\n",
    "])\n",
    "\n",
    "dataset = MNIST('./data', download = True, transform=img_transform)\n",
    "dataloader = torch.utils.data.DataLoader(dataset, batch_size=batch_size, shuffle=True)"
   ]
  },
  {
   "cell_type": "code",
   "execution_count": 41,
   "metadata": {},
   "outputs": [],
   "source": [
    "class TwoLayerEncoder(nn.Module):\n",
    "    def __init__(self):\n",
    "        super(TwoLayerEncoder, self).__init__()\n",
    "        \n",
    "        self.encoder = nn.Sequential(\n",
    "            nn.Linear(784, 100),\n",
    "            nn.ReLU(True),\n",
    "            nn.Linear(100, 3)\n",
    "        )\n",
    "        self.decoder = nn.Sequential(\n",
    "            nn.Linear(3, 100),\n",
    "            nn.ReLU(True),\n",
    "            nn.Linear(100, 784),\n",
    "            nn.ReLU(True)\n",
    "        )\n",
    "\n",
    "    def forward(self, x):\n",
    "        x = self.encoder(x)\n",
    "        x = self.decoder(x)\n",
    "        return x"
   ]
  },
  {
   "cell_type": "code",
   "execution_count": 42,
   "metadata": {},
   "outputs": [],
   "source": [
    "encoder = TwoLayerEncoder()\n",
    "\n",
    "criterion = nn.MSELoss()\n",
    "\n",
    "optimizer = torch.optim.Adam(encoder.parameters(), lr=0.002)\n",
    "\n",
    "for epoch in range(epochs_number):\n",
    "    for data, target in dataloader:\n",
    "        data = data.view(data.size(0), -1)\n",
    "\n",
    "        output = encoder(data)\n",
    "        loss = criterion(output, data)\n",
    "\n",
    "        optimizer.zero_grad()\n",
    "        loss.backward()\n",
    "        optimizer.step()"
   ]
  },
  {
   "cell_type": "code",
   "execution_count": 44,
   "metadata": {},
   "outputs": [
    {
     "data": {
      "image/png": "[encoded data removed]",
      "text/plain": [
       "<Figure size 432x432 with 25 Axes>"
      ]
     },
     "metadata": {
      "needs_background": "light"
     },
     "output_type": "display_data"
    }
   ],
   "source": [
    "fig = plt.figure(figsize=(6, 6))\n",
    "\n",
    "data, target = next(iter(dataloader))\n",
    "\n",
    "for i in range(25):\n",
    "    fig.add_subplot(5, 5, i + 1)\n",
    "    plt.imshow(data[i].reshape(28, 28), cmap='gray')\n",
    "plt.show()"
   ]
  },
  {
   "cell_type": "code",
   "execution_count": 52,
   "metadata": {},
   "outputs": [
    {
     "data": {
      "image/png": "[encoded data removed]",
      "text/plain": [
       "<Figure size 432x432 with 25 Axes>"
      ]
     },
     "metadata": {
      "needs_background": "light"
     },
     "output_type": "display_data"
    }
   ],
   "source": [
    "fig = plt.figure(figsize=(6, 6))\n",
    "\n",
    "data, target = next(iter(dataloader))\n",
    "data = data.view(data.size(0), -1)\n",
    "\n",
    "result = encoder(data).detach().numpy()\n",
    "\n",
    "for i in range(25):\n",
    "    fig.add_subplot(5, 5, i + 1)\n",
    "    plt.imshow(result[i].reshape(28, 28), cmap='Greys')\n",
    "plt.show()"
   ]
  },
  {
   "cell_type": "code",
   "execution_count": 62,
   "metadata": {},
   "outputs": [],
   "source": [
    "class FourLayerEncoder(nn.Module):\n",
    "    \n",
    "    def __init__(self):\n",
    "        super(FourLayerEncoder, self).__init__()\n",
    "        self.encoder = nn.Sequential(\n",
    "            nn.Linear(28 * 28, 128),\n",
    "            nn.ReLU(True),\n",
    "            nn.Linear(128, 64),\n",
    "            nn.ReLU(True), nn.Linear(64, 12), nn.ReLU(True), nn.Linear(12, 3))\n",
    "        \n",
    "        self.decoder = nn.Sequential(\n",
    "            nn.Linear(3, 12),\n",
    "            nn.ReLU(True),\n",
    "            nn.Linear(12, 64),\n",
    "            nn.ReLU(True),\n",
    "            nn.Linear(64, 128),\n",
    "            nn.ReLU(True), nn.Linear(128, 28 * 28), nn.Tanh())\n",
    "    def forward(self, x):\n",
    "        x = self.encoder(x)\n",
    "        x = self.decoder(x)\n",
    "        return x"
   ]
  },
  {
   "cell_type": "code",
   "execution_count": 63,
   "metadata": {},
   "outputs": [],
   "source": [
    "encoder2 = FourLayerEncoder()\n",
    "\n",
    "criterion = nn.MSELoss()\n",
    "\n",
    "optimizer = torch.optim.Adam(encoder2.parameters(), lr=0.002)\n",
    "\n",
    "for epoch in range(epochs_number):\n",
    "    for data, target in dataloader:\n",
    "        data = data.view(data.size(0), -1)\n",
    "\n",
    "        output = encoder2(data)\n",
    "        loss = criterion(output, data)\n",
    "\n",
    "        optimizer.zero_grad()\n",
    "        loss.backward()\n",
    "        optimizer.step()"
   ]
  },
  {
   "cell_type": "code",
   "execution_count": 64,
   "metadata": {},
   "outputs": [
    {
     "data": {
      "image/png": "[encoded data removed]",
      "text/plain": [
       "<Figure size 432x432 with 25 Axes>"
      ]
     },
     "metadata": {
      "needs_background": "light"
     },
     "output_type": "display_data"
    }
   ],
   "source": [
    "fig = plt.figure(figsize=(6, 6))\n",
    "\n",
    "data, target = next(iter(dataloader))\n",
    "\n",
    "for i in range(25):\n",
    "    fig.add_subplot(5, 5, i + 1)\n",
    "    plt.imshow(data[i].reshape(28, 28), cmap='gray')\n",
    "plt.show()"
   ]
  },
  {
   "cell_type": "code",
   "execution_count": 65,
   "metadata": {},
   "outputs": [
    {
     "data": {
      "image/png": "[encoded data removed]",
      "text/plain": [
       "<Figure size 432x432 with 25 Axes>"
      ]
     },
     "metadata": {
      "needs_background": "light"
     },
     "output_type": "display_data"
    }
   ],
   "source": [
    "fig = plt.figure(figsize=(6, 6))\n",
    "\n",
    "data, target = next(iter(dataloader))\n",
    "data = data.view(data.size(0), -1)\n",
    "\n",
    "result = encoder2(data).detach().numpy()\n",
    "\n",
    "for i in range(25):\n",
    "    fig.add_subplot(5, 5, i + 1)\n",
    "    plt.imshow(result[i].reshape(28, 28), cmap='Greys')\n",
    "plt.show()"
   ]
  }
 ],
 "metadata": {
  "kernelspec": {
   "display_name": "Python 3",
   "language": "python",
   "name": "python3"
  },
  "language_info": {
   "codemirror_mode": {
    "name": "ipython",
    "version": 3
   },
   "file_extension": ".py",
   "mimetype": "text/x-python",
   "name": "python",
   "nbconvert_exporter": "python",
   "pygments_lexer": "ipython3",
   "version": "3.6.7"
  }
 },
 "nbformat": 4,
 "nbformat_minor": 1
}
